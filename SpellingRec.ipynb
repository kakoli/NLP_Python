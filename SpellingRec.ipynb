{
  "nbformat": 4,
  "nbformat_minor": 0,
  "metadata": {
    "coursera": {
      "course_slug": "python-text-mining",
      "graded_item_id": "r35En",
      "launcher_item_id": "tCVfW",
      "part_id": "NTVgL"
    },
    "kernelspec": {
      "name": "python3",
      "display_name": "Python 3"
    },
    "language_info": {
      "codemirror_mode": {
        "name": "ipython",
        "version": 3
      },
      "file_extension": ".py",
      "mimetype": "text/x-python",
      "name": "python",
      "nbconvert_exporter": "python",
      "pygments_lexer": "ipython3",
      "version": "3.6.6"
    },
    "colab": {
      "name": "SpellingRec.ipynb",
      "provenance": [],
      "collapsed_sections": []
    },
    "accelerator": "GPU"
  },
  "cells": [
    {
      "cell_type": "markdown",
      "metadata": {
        "id": "4iO75sRqDws0",
        "colab_type": "text"
      },
      "source": [
        "#### Using nltk to analyze Herman Melville novel 'Moby Dick' . "
      ]
    },
    {
      "cell_type": "code",
      "metadata": {
        "id": "chrLrXNQDwtm",
        "colab_type": "code",
        "outputId": "2c7cec10-101f-4ab3-f820-d0d1a450e3db",
        "colab": {
          "base_uri": "https://localhost:8080/",
          "height": 354
        }
      },
      "source": [
        "import nltk\n",
        "nltk.download('gutenberg')\n",
        "nltk.download('words')\n",
        "nltk.download('genesis')\n",
        "nltk.download('inaugural')\n",
        "nltk.download('nps_chat')\n",
        "nltk.download('webtext')\n",
        "nltk.download('treebank')\n",
        "nltk.download('punkt')\n",
        "nltk.download('averaged_perceptron_tagger')\n",
        "\n",
        "import pandas as pd\n",
        "import numpy as np\n",
        "from nltk.book import *\n",
        "from nltk.corpus import words\n",
        "from google.colab import drive"
      ],
      "execution_count": 15,
      "outputs": [
        {
          "output_type": "stream",
          "text": [
            "[nltk_data] Downloading package gutenberg to /root/nltk_data...\n",
            "[nltk_data]   Package gutenberg is already up-to-date!\n",
            "[nltk_data] Downloading package words to /root/nltk_data...\n",
            "[nltk_data]   Package words is already up-to-date!\n",
            "[nltk_data] Downloading package genesis to /root/nltk_data...\n",
            "[nltk_data]   Package genesis is already up-to-date!\n",
            "[nltk_data] Downloading package inaugural to /root/nltk_data...\n",
            "[nltk_data]   Package inaugural is already up-to-date!\n",
            "[nltk_data] Downloading package nps_chat to /root/nltk_data...\n",
            "[nltk_data]   Package nps_chat is already up-to-date!\n",
            "[nltk_data] Downloading package webtext to /root/nltk_data...\n",
            "[nltk_data]   Package webtext is already up-to-date!\n",
            "[nltk_data] Downloading package treebank to /root/nltk_data...\n",
            "[nltk_data]   Package treebank is already up-to-date!\n",
            "[nltk_data] Downloading package punkt to /root/nltk_data...\n",
            "[nltk_data]   Package punkt is already up-to-date!\n",
            "[nltk_data] Downloading package averaged_perceptron_tagger to\n",
            "[nltk_data]     /root/nltk_data...\n",
            "[nltk_data]   Unzipping taggers/averaged_perceptron_tagger.zip.\n"
          ],
          "name": "stdout"
        }
      ]
    },
    {
      "cell_type": "code",
      "metadata": {
        "id": "9cjss2QfUBt1",
        "colab_type": "code",
        "outputId": "0d4a90a3-ab62-4b2f-a731-71d312be2199",
        "colab": {
          "base_uri": "https://localhost:8080/",
          "height": 214
        }
      },
      "source": [
        "!ls -al /root/nltk_data\n",
        "\n",
        "drive.mount('/content/gdrive')\n",
        "dir=\"/content/gdrive/My Drive/Colab Notebooks/NLP/\"\n",
        "\n",
        "!ls"
      ],
      "execution_count": 9,
      "outputs": [
        {
          "output_type": "stream",
          "text": [
            "total 16\n",
            "drwxr-xr-x 3 root root 4096 Dec  3 03:54 .\n",
            "drwx------ 1 root root 4096 Dec  3 03:54 ..\n",
            "drwxr-xr-x 9 root root 4096 Dec  3 03:56 corpora\n",
            "Go to this URL in a browser: https://accounts.google.com/o/oauth2/auth?client_id=947318989803-6bn6qk8qdgf4n4g3pfee6491hc0brc4i.apps.googleusercontent.com&redirect_uri=urn%3aietf%3awg%3aoauth%3a2.0%3aoob&response_type=code&scope=email%20https%3a%2f%2fwww.googleapis.com%2fauth%2fdocs.test%20https%3a%2f%2fwww.googleapis.com%2fauth%2fdrive%20https%3a%2f%2fwww.googleapis.com%2fauth%2fdrive.photos.readonly%20https%3a%2f%2fwww.googleapis.com%2fauth%2fpeopleapi.readonly\n",
            "\n",
            "Enter your authorization code:\n",
            "··········\n",
            "Mounted at /content/gdrive\n",
            "gdrive\tsample_data\n"
          ],
          "name": "stdout"
        }
      ]
    },
    {
      "cell_type": "code",
      "metadata": {
        "id": "sL3kzr7W-Qoy",
        "colab_type": "code",
        "outputId": "2241e0ee-01d1-472b-e8c0-08f808422483",
        "colab": {
          "base_uri": "https://localhost:8080/",
          "height": 230
        }
      },
      "source": [
        "texts()\n",
        "\n",
        "# text1 of type nltk.text.Text\n",
        "print()\n",
        "print(type(text1))\n",
        "text1.count(\"whale\")"
      ],
      "execution_count": 10,
      "outputs": [
        {
          "output_type": "stream",
          "text": [
            "text1: Moby Dick by Herman Melville 1851\n",
            "text2: Sense and Sensibility by Jane Austen 1811\n",
            "text3: The Book of Genesis\n",
            "text4: Inaugural Address Corpus\n",
            "text5: Chat Corpus\n",
            "text6: Monty Python and the Holy Grail\n",
            "text7: Wall Street Journal\n",
            "text8: Personals Corpus\n",
            "text9: The Man Who Was Thursday by G . K . Chesterton 1908\n",
            "\n",
            "<class 'nltk.text.Text'>\n"
          ],
          "name": "stdout"
        },
        {
          "output_type": "execute_result",
          "data": {
            "text/plain": [
              "906"
            ]
          },
          "metadata": {
            "tags": []
          },
          "execution_count": 10
        }
      ]
    },
    {
      "cell_type": "code",
      "metadata": {
        "id": "d9JH_Bz2Dws2",
        "colab_type": "code",
        "outputId": "3077ab83-f12b-468d-b440-cf784280a658",
        "colab": {
          "base_uri": "https://localhost:8080/",
          "height": 34
        }
      },
      "source": [
        "with open(dir + 'moby.txt', 'r') as f:\n",
        "    moby_raw = f.read()\n",
        "    \n",
        "moby_tokens = nltk.word_tokenize(moby_raw)\n",
        "print(len(moby_tokens), moby_tokens[:10])"
      ],
      "execution_count": 13,
      "outputs": [
        {
          "output_type": "stream",
          "text": [
            "254989 ['[', 'Moby', 'Dick', 'by', 'Herman', 'Melville', '1851', ']', 'ETYMOLOGY', '.']\n"
          ],
          "name": "stdout"
        }
      ]
    },
    {
      "cell_type": "markdown",
      "metadata": {
        "id": "oKKS2bt9AJii",
        "colab_type": "text"
      },
      "source": [
        " 5 most frequent parts of speech in the text 'Moby Dick' and their frequency"
      ]
    },
    {
      "cell_type": "code",
      "metadata": {
        "id": "TFOPAn9NALhw",
        "colab_type": "code",
        "outputId": "db75b7dc-709e-45ca-cc95-51be81150945",
        "colab": {
          "base_uri": "https://localhost:8080/",
          "height": 52
        }
      },
      "source": [
        "# list of tuple(token, POS)    \n",
        "token_pos_list = nltk.pos_tag(moby_tokens)\n",
        "\n",
        "pos_list = [token_pos[1] for token_pos in token_pos_list]\n",
        "print(pos_list[:10])\n",
        "\n",
        "fd = nltk.FreqDist(pos_list)\n",
        "# Convert to list of tuple(POS, freq)\n",
        "pos_freq_list = [(pos, fd[pos]) for pos in fd.keys()]\n",
        "#print(pos_freq_list[:10])\n",
        "\n",
        "pos_freq_list.sort(key = lambda x:x[1], reverse=True)\n",
        "print(pos_freq_list[:5])"
      ],
      "execution_count": 16,
      "outputs": [
        {
          "output_type": "stream",
          "text": [
            "['JJ', 'NNP', 'NNP', 'IN', 'NNP', 'NNP', 'CD', 'NNP', 'NNP', '.']\n",
            "[('NN', 32730), ('IN', 28657), ('DT', 25867), (',', 19204), ('JJ', 17620)]\n"
          ],
          "name": "stdout"
        }
      ]
    },
    {
      "cell_type": "markdown",
      "metadata": {
        "id": "mLXdi86kDwtl",
        "colab_type": "text"
      },
      "source": [
        "#### Spelling Recommender\n",
        "For every misspelled word in mistake_list, the recommender finds the word in corpus that is the nearest, and starts with the same letter as the misspelled word. Return is a list of 3 correct words given the list of 3 misspelt words.\n",
        "\n",
        "*Each of the three different recommenders will use a different distance measure (outlined below).*\n",
        "\n"
      ]
    },
    {
      "cell_type": "markdown",
      "metadata": {
        "id": "p_ESXQvODwtq",
        "colab_type": "text"
      },
      "source": [
        "Distance metric used : **[Jaccard distance](https://en.wikipedia.org/wiki/Jaccard_index) on the trigrams of the two words.**\n"
      ]
    },
    {
      "cell_type": "code",
      "metadata": {
        "id": "8XbOPK23XxHZ",
        "colab_type": "code",
        "outputId": "994d55c9-14ef-43da-8975-388fa9f241a7",
        "colab": {
          "base_uri": "https://localhost:8080/",
          "height": 34
        }
      },
      "source": [
        "mistake_list = ['cormulent', 'incendenece', 'validrate']\n",
        "\n",
        "corpus = words.words()\n",
        "print(len(corpus))"
      ],
      "execution_count": 17,
      "outputs": [
        {
          "output_type": "stream",
          "text": [
            "236736\n"
          ],
          "name": "stdout"
        }
      ]
    },
    {
      "cell_type": "code",
      "metadata": {
        "id": "xvsutUkqDwtr",
        "colab_type": "code",
        "outputId": "9aaaf617-f912-451f-c8eb-06e76ba3b626",
        "colab": {
          "base_uri": "https://localhost:8080/",
          "height": 176
        }
      },
      "source": [
        "def word_recommender_trigram(mistake):\n",
        "    mistake_ngram = set(nltk.ngrams(mistake, n=3))\n",
        "    filtered_corpus = [word for word in corpus if word.startswith(mistake[0])]\n",
        "    print(len(filtered_corpus))\n",
        "    dist_word_tuple = []\n",
        "\n",
        "    for word in filtered_corpus:\n",
        "        word_ngram = set(nltk.ngrams(word, n=3)) # Char level ngram\n",
        "\n",
        "        # calculate the jaccard distance of each word with the mistake\n",
        "        jd_ngram = nltk.jaccard_distance(mistake_ngram, word_ngram)\n",
        "        # List of tuple in the form (distance, word)\n",
        "        dist_word_tuple.append((jd_ngram, word))\n",
        "        \n",
        "    # sort them in default, ascending order so shortest distance is on top.\n",
        "    dist_word_tuple.sort()\n",
        "    #print(len(dist_word_tuple), dist_word_tuple[:10])\n",
        "            \n",
        "    # Return the least distance/most similar word\n",
        "    correct_word = dist_word_tuple[0][1]\n",
        "    print(\"Mistake: \", mistake, \"Recommended: \", correct_word)\n",
        "    return correct_word\n",
        "  \n",
        "[word_recommender_trigram(mistake) for mistake in mistake_list]    "
      ],
      "execution_count": 18,
      "outputs": [
        {
          "output_type": "stream",
          "text": [
            "17474\n",
            "Mistake:  cormulent Recommended:  corpulent\n",
            "8320\n",
            "Mistake:  incendenece Recommended:  indecence\n"
          ],
          "name": "stdout"
        },
        {
          "output_type": "stream",
          "text": [
            "/usr/local/lib/python3.6/dist-packages/ipykernel_launcher.py:8: DeprecationWarning: generator 'ngrams' raised StopIteration\n",
            "  \n"
          ],
          "name": "stderr"
        },
        {
          "output_type": "stream",
          "text": [
            "3086\n",
            "Mistake:  validrate Recommended:  validate\n"
          ],
          "name": "stdout"
        },
        {
          "output_type": "execute_result",
          "data": {
            "text/plain": [
              "['corpulent', 'indecence', 'validate']"
            ]
          },
          "metadata": {
            "tags": []
          },
          "execution_count": 18
        }
      ]
    },
    {
      "cell_type": "markdown",
      "metadata": {
        "id": "ci8TzslrDwtt",
        "colab_type": "text"
      },
      "source": [
        "Distance metric used :\n",
        "**[Jaccard distance](https://en.wikipedia.org/wiki/Jaccard_index) on the 4-grams of the two words.**"
      ]
    },
    {
      "cell_type": "code",
      "metadata": {
        "id": "QSh27BynDwtv",
        "colab_type": "code",
        "outputId": "0db60f82-9950-44a3-a5c3-db81dedb14d0",
        "colab": {
          "base_uri": "https://localhost:8080/",
          "height": 176
        }
      },
      "source": [
        "def word_recommender_fourgram(mistake):\n",
        "    correct_words = []\n",
        "    \n",
        "    #for mistake in mistake_list:\n",
        "    mistake_ngram = set(nltk.ngrams(mistake, n=4))\n",
        "    filtered_corpus = [word for word in corpus if word.startswith(mistake[0])]\n",
        "    print(len(filtered_corpus))\n",
        "    dist_word_tuple = []\n",
        "\n",
        "    for word in filtered_corpus:\n",
        "        word_ngram = set(nltk.ngrams(word, n=4)) # Char level ngram\n",
        "\n",
        "        # calculate the jaccard distance of each word with the mistake\n",
        "        jd_ngram = nltk.jaccard_distance(mistake_ngram, word_ngram)\n",
        "        # List of tuple in the form (distance, word)\n",
        "        dist_word_tuple.append((jd_ngram, word))\n",
        "        \n",
        "    # sort them in default, ascending order so shortest distance is on top.\n",
        "    dist_word_tuple.sort()\n",
        "    #print(len(dist_word_tuple), dist_word_tuple[:10])\n",
        "            \n",
        "    # Return the least distance/most similar word\n",
        "    correct_word = dist_word_tuple[0][1]\n",
        "    print(\"Mistake: \", mistake, \"Recommended: \", correct_word)\n",
        "    return correct_word\n",
        "  \n",
        "[word_recommender_fourgram(mistake) for mistake in mistake_list]    "
      ],
      "execution_count": 19,
      "outputs": [
        {
          "output_type": "stream",
          "text": [
            "17474\n",
            "Mistake:  cormulent Recommended:  cormus\n",
            "8320\n",
            "Mistake:  incendenece Recommended:  incendiary\n"
          ],
          "name": "stdout"
        },
        {
          "output_type": "stream",
          "text": [
            "/usr/local/lib/python3.6/dist-packages/ipykernel_launcher.py:11: DeprecationWarning: generator 'ngrams' raised StopIteration\n",
            "  # This is added back by InteractiveShellApp.init_path()\n"
          ],
          "name": "stderr"
        },
        {
          "output_type": "stream",
          "text": [
            "3086\n",
            "Mistake:  validrate Recommended:  valid\n"
          ],
          "name": "stdout"
        },
        {
          "output_type": "execute_result",
          "data": {
            "text/plain": [
              "['cormus', 'incendiary', 'valid']"
            ]
          },
          "metadata": {
            "tags": []
          },
          "execution_count": 19
        }
      ]
    },
    {
      "cell_type": "markdown",
      "metadata": {
        "id": "Apq-G-NVDwt1",
        "colab_type": "text"
      },
      "source": [
        "#### Distance metric used : **[Edit distance on the two words with transpositions.](https://en.wikipedia.org/wiki/Damerau%E2%80%93Levenshtein_distance)**"
      ]
    },
    {
      "cell_type": "code",
      "metadata": {
        "id": "3Po7o8ioDwt6",
        "colab_type": "code",
        "outputId": "d0f675a9-8407-4269-9fb3-eee7f2006dda",
        "colab": {
          "base_uri": "https://localhost:8080/",
          "height": 141
        }
      },
      "source": [
        "def recommender_edit_dist(mistake):\n",
        "    rec_list = []    \n",
        "    \n",
        "    filtered_corpus = [word for word in corpus if word.startswith(mistake[0])]\n",
        "    print(len(filtered_corpus))\n",
        "    dist_word_tuple = []\n",
        "\n",
        "    for word in filtered_corpus:\n",
        "        # Levenshtein edit-distance between two words\n",
        "        edit_dist = nltk.edit_distance(mistake, word, transpositions=True)\n",
        "        dist_word_tuple.append((edit_dist, word))\n",
        "\n",
        "    dist_word_tuple.sort()\n",
        "    # Return the least distance/most similar word\n",
        "    correct_word = dist_word_tuple[0][1]\n",
        "    print(\"Mistake: \", mistake, \"Recommended: \", correct_word)\n",
        "    return correct_word\n",
        "    \n",
        "[recommender_edit_dist(mistake) for mistake in mistake_list]"
      ],
      "execution_count": 20,
      "outputs": [
        {
          "output_type": "stream",
          "text": [
            "17474\n",
            "Mistake:  cormulent Recommended:  corpulent\n",
            "8320\n",
            "Mistake:  incendenece Recommended:  intendence\n",
            "3086\n",
            "Mistake:  validrate Recommended:  validate\n"
          ],
          "name": "stdout"
        },
        {
          "output_type": "execute_result",
          "data": {
            "text/plain": [
              "['corpulent', 'intendence', 'validate']"
            ]
          },
          "metadata": {
            "tags": []
          },
          "execution_count": 20
        }
      ]
    },
    {
      "cell_type": "code",
      "metadata": {
        "id": "dHBKHtI9Dwt9",
        "colab_type": "code",
        "colab": {}
      },
      "source": [
        ""
      ],
      "execution_count": 0,
      "outputs": []
    }
  ]
}